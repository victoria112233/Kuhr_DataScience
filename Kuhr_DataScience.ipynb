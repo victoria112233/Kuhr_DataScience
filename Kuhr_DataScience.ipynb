{
 "cells": [
  {
   "cell_type": "markdown",
   "id": "ba29d154-c39b-48b3-a87d-7bb3da3494e6",
   "metadata": {
    "tags": []
   },
   "source": [
    "# Data Science Tools and Ecosystem"
   ]
  },
  {
   "cell_type": "markdown",
   "id": "0bf92c29-ea31-430a-be38-ef4d0ed7585c",
   "metadata": {},
   "source": [
    "## In this notebook, Data Science Tools and Ecosystem are summarized."
   ]
  },
  {
   "cell_type": "markdown",
   "id": "ac054d8d-f08a-4c65-b70b-1cf2b9a62a39",
   "metadata": {},
   "source": [
    "Some of the popular languages that Data Scientists use are:\n",
    "1. Python\n",
    "2. R\n",
    "3. SQL"
   ]
  },
  {
   "cell_type": "markdown",
   "id": "49ad529c-c719-4306-8eb7-d1760358722c",
   "metadata": {},
   "source": [
    "Some of the commonly used libraries used by Data Scientists include:\n",
    "1. Pandas \n",
    "2. TensorFlow\n",
    "3. Seaborn\n",
    "4. NumPy"
   ]
  },
  {
   "cell_type": "markdown",
   "id": "53b05fd6-ec06-499c-a874-5ec0058a0c6f",
   "metadata": {},
   "source": [
    "|Data Science Tools|\n",
    "|:-----------------|\n",
    "|Anaconda          |\n",
    "|Jupyter Notebooks |\n",
    "|PyCharm           |"
   ]
  },
  {
   "cell_type": "markdown",
   "id": "228eb085-f264-4f03-a28b-79bffcdaf8d8",
   "metadata": {},
   "source": [
    "### Below are a few examples of evaluating arithmetic expressions in Python\n",
    "\n",
    "(a+b)^2 = a^2+2ab+b^2\n",
    "\n",
    "4+4\n",
    "\n",
    "4*4"
   ]
  },
  {
   "cell_type": "code",
   "execution_count": 7,
   "id": "13838d30-9228-4dd0-9e31-2b49a1eb271f",
   "metadata": {
    "tags": []
   },
   "outputs": [
    {
     "data": {
      "text/plain": [
       "17"
      ]
     },
     "execution_count": 7,
     "metadata": {},
     "output_type": "execute_result"
    }
   ],
   "source": [
    "### This a simple arithmetic expression to mutiply then add integers\n",
    "\n",
    "(3*4)+5"
   ]
  },
  {
   "cell_type": "code",
   "execution_count": 11,
   "id": "808ea381-9bfc-42b6-86f2-b1c3339a5942",
   "metadata": {
    "tags": []
   },
   "outputs": [
    {
     "data": {
      "text/plain": [
       "3.3333333333333335"
      ]
     },
     "execution_count": 11,
     "metadata": {},
     "output_type": "execute_result"
    }
   ],
   "source": [
    "### This will convert 200 minutes to hours by diving by 60\n",
    "\n",
    "200/60"
   ]
  },
  {
   "cell_type": "markdown",
   "id": "aac51c45-beb8-4b24-b4a0-75942bf446cd",
   "metadata": {},
   "source": [
    "### **Objectives**\n",
    "\n",
    "* List popular languages for Data Science\n",
    "* How to use GitHub/GitLab\n",
    "* Describe what a Data Scientist is\n",
    "* How to use Juypter Notebooks \n"
   ]
  },
  {
   "cell_type": "markdown",
   "id": "71704a4b-bf17-45e8-9527-3b2ae104050b",
   "metadata": {
    "tags": []
   },
   "source": [
    "## Author\n",
    "Victoria Kuhr"
   ]
  }
 ],
 "metadata": {
  "kernelspec": {
   "display_name": "Python",
   "language": "python",
   "name": "conda-env-python-py"
  },
  "language_info": {
   "codemirror_mode": {
    "name": "ipython",
    "version": 3
   },
   "file_extension": ".py",
   "mimetype": "text/x-python",
   "name": "python",
   "nbconvert_exporter": "python",
   "pygments_lexer": "ipython3",
   "version": "3.7.12"
  }
 },
 "nbformat": 4,
 "nbformat_minor": 5
}
